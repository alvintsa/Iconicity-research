{
 "cells": [
  {
   "cell_type": "code",
   "execution_count": 1,
   "metadata": {},
   "outputs": [
    {
     "data": {
      "text/plain": [
       "'\\neng\\nfra\\nest\\nvie\\nno chinese?\\njpn\\nno persian?\\nspa\\nno shipibo?\\nno quechuan?\\n\\n'"
      ]
     },
     "execution_count": 1,
     "metadata": {},
     "output_type": "execute_result"
    }
   ],
   "source": [
    "\"\"\"\n",
    "eng\n",
    "fra\n",
    "est\n",
    "vie\n",
    "no chinese?\n",
    "jpn\n",
    "no persian?\n",
    "spa\n",
    "no shipibo?\n",
    "no quechuan?\n",
    "\n",
    "\"\"\""
   ]
  },
  {
   "cell_type": "code",
   "execution_count": 6,
   "metadata": {},
   "outputs": [],
   "source": [
    "import pandas as pd\n",
    "from pandas import DataFrame\n",
    "from typing import List, Dict"
   ]
  },
  {
   "cell_type": "code",
   "execution_count": 16,
   "metadata": {},
   "outputs": [],
   "source": [
    "def parse_tsv(file: str) -> DataFrame:\n",
    "    # Read the TSV file into a DataFrame\n",
    "    df = pd.read_csv(file, sep='\\t', header = None)\n",
    "    df.columns = [\"word\", \"pronunciation\"]\n",
    "    return df\n",
    "\n",
    "def get_prononciations(file: str, words: List[str]) -> Dict[str, str]:\n",
    "    assert isinstance(words, List), \"words must be a list of strings\"\n",
    "    pronunciations = {}\n",
    "    tsv_df = parse_tsv(file)\n",
    "    for word in words:\n",
    "        if word in tsv_df[\"word\"].values:\n",
    "            pronunciations[word] = tsv_df.loc[tsv_df[\"word\"] == word, 'pronunciation'].iloc[0]\n",
    "    return pronunciations\n",
    "        \n",
    "    "
   ]
  },
  {
   "cell_type": "code",
   "execution_count": 17,
   "metadata": {},
   "outputs": [
    {
     "data": {
      "text/html": [
       "<div>\n",
       "<style scoped>\n",
       "    .dataframe tbody tr th:only-of-type {\n",
       "        vertical-align: middle;\n",
       "    }\n",
       "\n",
       "    .dataframe tbody tr th {\n",
       "        vertical-align: top;\n",
       "    }\n",
       "\n",
       "    .dataframe thead th {\n",
       "        text-align: right;\n",
       "    }\n",
       "</style>\n",
       "<table border=\"1\" class=\"dataframe\">\n",
       "  <thead>\n",
       "    <tr style=\"text-align: right;\">\n",
       "      <th></th>\n",
       "      <th>word</th>\n",
       "      <th>pronunciation</th>\n",
       "    </tr>\n",
       "  </thead>\n",
       "  <tbody>\n",
       "    <tr>\n",
       "      <th>0</th>\n",
       "      <td>'Murica</td>\n",
       "      <td>m ɝ ə k ə</td>\n",
       "    </tr>\n",
       "    <tr>\n",
       "      <th>1</th>\n",
       "      <td>'Murica</td>\n",
       "      <td>m ɝ ɪ k ə</td>\n",
       "    </tr>\n",
       "    <tr>\n",
       "      <th>2</th>\n",
       "      <td>'bout</td>\n",
       "      <td>b a ʊ t</td>\n",
       "    </tr>\n",
       "    <tr>\n",
       "      <th>3</th>\n",
       "      <td>'cause</td>\n",
       "      <td>k ʌ z</td>\n",
       "    </tr>\n",
       "    <tr>\n",
       "      <th>4</th>\n",
       "      <td>'d</td>\n",
       "      <td>d</td>\n",
       "    </tr>\n",
       "    <tr>\n",
       "      <th>...</th>\n",
       "      <td>...</td>\n",
       "      <td>...</td>\n",
       "    </tr>\n",
       "    <tr>\n",
       "      <th>77735</th>\n",
       "      <td>Šiauliai</td>\n",
       "      <td>ʃ a ʊ l e ɪ</td>\n",
       "    </tr>\n",
       "    <tr>\n",
       "      <th>77736</th>\n",
       "      <td>ǂKxʼauǁʼein</td>\n",
       "      <td>k a ʊ a ɪ n</td>\n",
       "    </tr>\n",
       "    <tr>\n",
       "      <th>77737</th>\n",
       "      <td>ǂKxʼauǁʼein</td>\n",
       "      <td>k ɑ o ʊ ɑ e ɪ n</td>\n",
       "    </tr>\n",
       "    <tr>\n",
       "      <th>77738</th>\n",
       "      <td>ǃKung</td>\n",
       "      <td>k u ŋ</td>\n",
       "    </tr>\n",
       "    <tr>\n",
       "      <th>77739</th>\n",
       "      <td>ǃKung</td>\n",
       "      <td>k ʊ ŋ</td>\n",
       "    </tr>\n",
       "  </tbody>\n",
       "</table>\n",
       "<p>77740 rows × 2 columns</p>\n",
       "</div>"
      ],
      "text/plain": [
       "              word    pronunciation\n",
       "0          'Murica        m ɝ ə k ə\n",
       "1          'Murica        m ɝ ɪ k ə\n",
       "2            'bout          b a ʊ t\n",
       "3           'cause            k ʌ z\n",
       "4               'd                d\n",
       "...            ...              ...\n",
       "77735     Šiauliai      ʃ a ʊ l e ɪ\n",
       "77736  ǂKxʼauǁʼein      k a ʊ a ɪ n\n",
       "77737  ǂKxʼauǁʼein  k ɑ o ʊ ɑ e ɪ n\n",
       "77738        ǃKung            k u ŋ\n",
       "77739        ǃKung            k ʊ ŋ\n",
       "\n",
       "[77740 rows x 2 columns]"
      ]
     },
     "execution_count": 17,
     "metadata": {},
     "output_type": "execute_result"
    }
   ],
   "source": [
    "tsv_df = parse_tsv(\"../documents/eng_latn_us_broad.tsv\")\n",
    "tsv_df"
   ]
  },
  {
   "cell_type": "code",
   "execution_count": 18,
   "metadata": {},
   "outputs": [
    {
     "data": {
      "text/plain": [
       "{'doctor': 'd ɑ k t ɚ', 'carpenter': 'k ɑ ɹ p ə n t ɚ'}"
      ]
     },
     "execution_count": 18,
     "metadata": {},
     "output_type": "execute_result"
    }
   ],
   "source": [
    "get_prononciations(\"../documents/eng_latn_us_broad.tsv\", [\"doctor\", \"carpenter\"])"
   ]
  },
  {
   "cell_type": "code",
   "execution_count": null,
   "metadata": {},
   "outputs": [],
   "source": []
  },
  {
   "cell_type": "code",
   "execution_count": null,
   "metadata": {},
   "outputs": [],
   "source": []
  }
 ],
 "metadata": {
  "kernelspec": {
   "display_name": "Python 3.9.6 64-bit",
   "language": "python",
   "name": "python3"
  },
  "language_info": {
   "codemirror_mode": {
    "name": "ipython",
    "version": 3
   },
   "file_extension": ".py",
   "mimetype": "text/x-python",
   "name": "python",
   "nbconvert_exporter": "python",
   "pygments_lexer": "ipython3",
   "version": "3.9.6"
  },
  "orig_nbformat": 4,
  "vscode": {
   "interpreter": {
    "hash": "31f2aee4e71d21fbe5cf8b01ff0e069b9275f58929596ceb00d14d90e3e16cd6"
   }
  }
 },
 "nbformat": 4,
 "nbformat_minor": 2
}
